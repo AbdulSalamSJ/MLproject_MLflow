{
 "cells": [
  {
   "cell_type": "code",
   "execution_count": null,
   "metadata": {},
   "outputs": [
    {
     "ename": "",
     "evalue": "",
     "output_type": "error",
     "traceback": [
      "\u001b[1;31mRunning cells with 'f:\\Projects\\MLproject_MLflow\\venv\\python.exe' requires the ipykernel package.\n",
      "\u001b[1;31mRun the following command to install 'ipykernel' into the Python environment. \n",
      "\u001b[1;31mCommand: 'conda install -p f:\\Projects\\MLproject_MLflow\\venv ipykernel --update-deps --force-reinstall'"
     ]
    }
   ],
   "source": [
    "d = {\"key\":\"value\", \"key1\":\"value1\"}\n",
    "d[\"key\"]\n",
    "d.key\n",
    "from box import ConfigBox\n",
    "d2 = ConfigBox({\"key\":\"value\", \"key1\":\"value1\"})\n",
    "d2\n",
    "d2.key\n",
    "def get_prodict(x:int, y:int) -> int:\n",
    "    return x*y\n",
    "get_prodict(x=2, y=4)\n",
    "get_prodict(x=2, y=\"4\")\n",
    "from ensure import ensure_annotations\n",
    "@ensure_annotations\n",
    "def get_prodict(x:int, y:int) -> int:\n",
    "    return x*y\n",
    "get_prodict(x=2, y=4)\n",
    "get_prodict(x=2, y=\"4\")\n"
   ]
  }
 ],
 "metadata": {
  "kernelspec": {
   "display_name": "Python 3",
   "language": "python",
   "name": "python3"
  },
  "language_info": {
   "name": "python",
   "version": "3.9.7"
  }
 },
 "nbformat": 4,
 "nbformat_minor": 2
}
